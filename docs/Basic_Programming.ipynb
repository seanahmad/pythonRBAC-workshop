{
  "nbformat": 4,
  "nbformat_minor": 0,
  "metadata": {
    "colab": {
      "name": "Basic_Programming.ipynb",
      "provenance": [],
      "collapsed_sections": []
    },
    "kernelspec": {
      "name": "python3",
      "display_name": "Python 3"
    }
  },
  "cells": [
    {
      "cell_type": "markdown",
      "metadata": {
        "id": "LIikg8cpf2ab",
        "colab_type": "text"
      },
      "source": [
        "# Intro to Python Workshop #"
      ]
    },
    {
      "cell_type": "markdown",
      "metadata": {
        "id": "4POoACzaXUie",
        "colab_type": "text"
      },
      "source": [
        "\n",
        "## Basic Data Structures ## \n",
        "\n",
        "* __Values__: A program works with values. Values can be numbers, texts, special characters and more.\n",
        "\n",
        "* __Types__: Values belong to different types. \n",
        "  * Numbers are usually of type integer or float. \n",
        "  * Texts are of type string. \n",
        "  * True and False are of boolean type.\n",
        "\n",
        "* __Variables__: Variable is a name that refers to a value. A powerful feature of programming language is the ability to manipulate variables.\n",
        "\n"
      ]
    },
    {
      "cell_type": "code",
      "metadata": {
        "id": "IpEiK2QYyDUB",
        "colab_type": "code",
        "outputId": "56b21cb7-48ae-4570-99a9-b360663d8d80",
        "colab": {
          "base_uri": "https://localhost:8080/",
          "height": 36
        }
      },
      "source": [
        "a = 5\n",
        "print(a)"
      ],
      "execution_count": 0,
      "outputs": [
        {
          "output_type": "stream",
          "text": [
            "5\n"
          ],
          "name": "stdout"
        }
      ]
    },
    {
      "cell_type": "code",
      "metadata": {
        "id": "9xagQ_jyyGpu",
        "colab_type": "code",
        "outputId": "25c4dca4-85ca-4bf4-9d64-7bd0d983e236",
        "colab": {
          "base_uri": "https://localhost:8080/",
          "height": 36
        }
      },
      "source": [
        "print(type(a))"
      ],
      "execution_count": 0,
      "outputs": [
        {
          "output_type": "stream",
          "text": [
            "<class 'int'>\n"
          ],
          "name": "stdout"
        }
      ]
    },
    {
      "cell_type": "markdown",
      "metadata": {
        "id": "Tp4VxzpuZtpv",
        "colab_type": "text"
      },
      "source": [
        "* __Strings__ is a data type.\n",
        "  * Strings are values contained by either single or double quotes.\n",
        "  * Strings are sequence of character(s).\n",
        "  * Each element of string can be __indexed__ and __sliced__ by its position.\n",
        "  * The position of an element is indicated by an integer value called index.\n",
        "\n",
        "__NOTE__ : Python index starts from 0 (not 1)."
      ]
    },
    {
      "cell_type": "code",
      "metadata": {
        "id": "oIF7irAaYjFr",
        "colab_type": "code",
        "outputId": "2cdef3ca-2d3c-4f0c-e7bb-930bec84565a",
        "colab": {
          "base_uri": "https://localhost:8080/",
          "height": 54
        }
      },
      "source": [
        "b = 'Hello World!'\n",
        "print(b)\n",
        "print(type(b))"
      ],
      "execution_count": 0,
      "outputs": [
        {
          "output_type": "stream",
          "text": [
            "Hello World!\n",
            "<class 'str'>\n"
          ],
          "name": "stdout"
        }
      ]
    },
    {
      "cell_type": "code",
      "metadata": {
        "id": "6tL9gI9YYnfF",
        "colab_type": "code",
        "outputId": "afa3235e-cef1-4ec1-e246-6258cecee3a9",
        "colab": {
          "base_uri": "https://localhost:8080/",
          "height": 36
        }
      },
      "source": [
        "len(b)"
      ],
      "execution_count": 0,
      "outputs": [
        {
          "output_type": "execute_result",
          "data": {
            "text/plain": [
              "12"
            ]
          },
          "metadata": {
            "tags": []
          },
          "execution_count": 4
        }
      ]
    },
    {
      "cell_type": "code",
      "metadata": {
        "id": "cOCynG-QYvkz",
        "colab_type": "code",
        "outputId": "46236d89-5744-4b7c-89d4-8f4bde1b6de2",
        "colab": {
          "base_uri": "https://localhost:8080/",
          "height": 36
        }
      },
      "source": [
        "b[0]"
      ],
      "execution_count": 0,
      "outputs": [
        {
          "output_type": "execute_result",
          "data": {
            "text/plain": [
              "'!'"
            ]
          },
          "metadata": {
            "tags": []
          },
          "execution_count": 7
        }
      ]
    },
    {
      "cell_type": "code",
      "metadata": {
        "id": "R1ynrfCB2hxi",
        "colab_type": "code",
        "outputId": "ba40c18e-4301-49c5-f830-6731c94fab90",
        "colab": {
          "base_uri": "https://localhost:8080/",
          "height": 36
        }
      },
      "source": [
        "b[:3]"
      ],
      "execution_count": 0,
      "outputs": [
        {
          "output_type": "execute_result",
          "data": {
            "text/plain": [
              "'Hel'"
            ]
          },
          "metadata": {
            "tags": []
          },
          "execution_count": 8
        }
      ]
    },
    {
      "cell_type": "markdown",
      "metadata": {
        "id": "dG9wKRJ9aVwG",
        "colab_type": "text"
      },
      "source": [
        "## Data Structures Native to Python ## \n",
        "\n",
        "* __List__ : \n",
        "  * List is a mutable, ordered sequence of items. \n",
        "  * The items are stored inside square brackets separated by comma. \n",
        "  * Each item in the list can be indexed. "
      ]
    },
    {
      "cell_type": "code",
      "metadata": {
        "id": "M0X0Nu1dyIdi",
        "colab_type": "code",
        "outputId": "d1721631-93cc-4003-f50c-721a8f8f8d58",
        "colab": {
          "base_uri": "https://localhost:8080/",
          "height": 54
        }
      },
      "source": [
        "fruits = ['apple', 'orange', 'peach']\n",
        "print(fruits)\n",
        "print(type(fruits))"
      ],
      "execution_count": 0,
      "outputs": [
        {
          "output_type": "stream",
          "text": [
            "['apple', 'orange', 'peach']\n",
            "<class 'list'>\n"
          ],
          "name": "stdout"
        }
      ]
    },
    {
      "cell_type": "code",
      "metadata": {
        "id": "gxnMHNSRate3",
        "colab_type": "code",
        "outputId": "e2265117-6093-4e97-dd50-62cffeffce73",
        "colab": {
          "base_uri": "https://localhost:8080/",
          "height": 54
        }
      },
      "source": [
        "numlist = [4, 8, 10, 15]\n",
        "print(numlist)\n",
        "print(type(numlist))"
      ],
      "execution_count": 0,
      "outputs": [
        {
          "output_type": "stream",
          "text": [
            "[4, 8, 10, 15]\n",
            "<class 'list'>\n"
          ],
          "name": "stdout"
        }
      ]
    },
    {
      "cell_type": "code",
      "metadata": {
        "id": "Za00jtdFb5Dm",
        "colab_type": "code",
        "outputId": "8dd9977f-a332-47cc-a680-6dbe7d5ec958",
        "colab": {
          "base_uri": "https://localhost:8080/",
          "height": 36
        }
      },
      "source": [
        "numlist[1] = 6\n",
        "print(numlist)"
      ],
      "execution_count": 0,
      "outputs": [
        {
          "output_type": "stream",
          "text": [
            "[4, 6, 10, 15]\n"
          ],
          "name": "stdout"
        }
      ]
    },
    {
      "cell_type": "markdown",
      "metadata": {
        "id": "-RsXvUjBcU3K",
        "colab_type": "text"
      },
      "source": [
        "* __Dictionary__ : \n",
        "  * A dictionary is a unordered, mutable collection of key-value pairs. \n",
        "  * Values in dictionaries can be indexed using the keys. \n",
        "  * Python dictionaries are written with curly brackets with each keys and values separated by a colon.\n",
        "  * Each key-value pairs are separated by comma.\n"
      ]
    },
    {
      "cell_type": "code",
      "metadata": {
        "id": "uPp_RGQab6sQ",
        "colab_type": "code",
        "outputId": "93f21e9f-f0ec-4b97-d580-97de1e20ce30",
        "colab": {
          "base_uri": "https://localhost:8080/",
          "height": 54
        }
      },
      "source": [
        "fruits_dict = { 'apple': 5 , 'orange' : 2, 'peach' : 3 }\n",
        "print(fruits_dict)\n",
        "print(type(fruits_dict))"
      ],
      "execution_count": 0,
      "outputs": [
        {
          "output_type": "stream",
          "text": [
            "{'apple': 5, 'orange': 2, 'peach': 3}\n",
            "<class 'dict'>\n"
          ],
          "name": "stdout"
        }
      ]
    },
    {
      "cell_type": "code",
      "metadata": {
        "id": "2AeuUv5KuqGJ",
        "colab_type": "code",
        "outputId": "6171564c-3c1b-4d6e-b311-365cb913adcf",
        "colab": {
          "base_uri": "https://localhost:8080/",
          "height": 36
        }
      },
      "source": [
        "fruits_dict['apple']"
      ],
      "execution_count": 0,
      "outputs": [
        {
          "output_type": "execute_result",
          "data": {
            "text/plain": [
              "5"
            ]
          },
          "metadata": {
            "tags": []
          },
          "execution_count": 16
        }
      ]
    },
    {
      "cell_type": "code",
      "metadata": {
        "id": "4IDX59BSYfrC",
        "colab_type": "code",
        "outputId": "47a8d014-30fe-4da2-e52b-0826979a2346",
        "colab": {
          "base_uri": "https://localhost:8080/",
          "height": 36
        }
      },
      "source": [
        "fruits_dict.keys()"
      ],
      "execution_count": 0,
      "outputs": [
        {
          "output_type": "execute_result",
          "data": {
            "text/plain": [
              "dict_keys(['apple', 'orange', 'peach'])"
            ]
          },
          "metadata": {
            "tags": []
          },
          "execution_count": 18
        }
      ]
    },
    {
      "cell_type": "markdown",
      "metadata": {
        "id": "NvoL-ZC1uHtW",
        "colab_type": "text"
      },
      "source": [
        "## Programming Structures ## \n",
        "\n",
        "Programming structures define how certain operations written in code will be executed. All progamming structure fall under roughly three categories :\n",
        "Sequential, Conditional and Loops (Iteration).\n",
        "\n",
        "* __Sequential__\n",
        "  * Programs are mostly written sequentially, meaning the first line of program runs first followed by the program in the second line, then the third line and so on. For example:\n"
      ]
    },
    {
      "cell_type": "code",
      "metadata": {
        "id": "uka751b_b63C",
        "colab_type": "code",
        "outputId": "8016f745-ffc7-4cc6-ec90-1ba987af6d40",
        "colab": {
          "base_uri": "https://localhost:8080/",
          "height": 73
        }
      },
      "source": [
        "print( fruits_dict['apple'] )\n",
        "print( fruits_dict['orange'] )\n",
        "print( fruits_dict['peach'] )"
      ],
      "execution_count": 0,
      "outputs": [
        {
          "output_type": "stream",
          "text": [
            "5\n",
            "2\n",
            "3\n"
          ],
          "name": "stdout"
        }
      ]
    },
    {
      "cell_type": "markdown",
      "metadata": {
        "id": "-RrC3vtauvhb",
        "colab_type": "text"
      },
      "source": [
        "* __Conditional__\n",
        "  * Programs become more useful when we can change its behavior given a condition is satisfied. Such programs are conditional programs. \n",
        "  * In Python, conditionals can be created with 'if' directive and are mostly accompanied by comparison operators, such as \" == \", \" != \", \" > \", \" < \", \" >= \", etc."
      ]
    },
    {
      "cell_type": "code",
      "metadata": {
        "id": "QhUzn-Q2Z7Ml",
        "colab_type": "code",
        "outputId": "859fe7d2-b394-41e1-f485-15e4a737cf64",
        "colab": {
          "base_uri": "https://localhost:8080/",
          "height": 36
        }
      },
      "source": [
        "numlist"
      ],
      "execution_count": 0,
      "outputs": [
        {
          "output_type": "execute_result",
          "data": {
            "text/plain": [
              "[4, 6, 10, 15]"
            ]
          },
          "metadata": {
            "tags": []
          },
          "execution_count": 20
        }
      ]
    },
    {
      "cell_type": "code",
      "metadata": {
        "id": "nYKpX6DnutWA",
        "colab_type": "code",
        "outputId": "7d1d0533-e127-4cfd-bacc-fe944529b72b",
        "colab": {
          "base_uri": "https://localhost:8080/",
          "height": 36
        }
      },
      "source": [
        "if numlist[0] > 5:\n",
        "  print(numlist[0])\n",
        "else: \n",
        "  print('It is not greater than 5')"
      ],
      "execution_count": 0,
      "outputs": [
        {
          "output_type": "stream",
          "text": [
            "It is not greater than 5\n"
          ],
          "name": "stdout"
        }
      ]
    },
    {
      "cell_type": "markdown",
      "metadata": {
        "id": "SJdz4F6fvh_R",
        "colab_type": "text"
      },
      "source": [
        "* __Iteration__\n",
        "  * Programs become powerful when the same block of code can be repeatedly executed on either identical tasks or similar tasks. This can be done through iteration. \n",
        "  * There are two types of iteration:\n",
        "    * Definite iteration, in which the number of repetitions is specified in advance. In Python, this is performed using “For” statement.\n",
        "    * Indefinite iteration, in which the code block executes until some condition is met. In Python, this is performed with a “While” statement.\n"
      ]
    },
    {
      "cell_type": "code",
      "metadata": {
        "id": "hCXr1RgVvzUw",
        "colab_type": "code",
        "outputId": "df6c3390-ffbd-4a5c-9074-013e84a18a66",
        "colab": {
          "base_uri": "https://localhost:8080/",
          "height": 92
        }
      },
      "source": [
        "newlist = []\n",
        "for i in numlist:\n",
        "  if i > 5:\n",
        "    print(i)\n",
        "    newlist.append(i)\n",
        "  else:\n",
        "    print( str(i) +' is not greater than 5.' )"
      ],
      "execution_count": 0,
      "outputs": [
        {
          "output_type": "stream",
          "text": [
            "4 is not greater than 5.\n",
            "6\n",
            "10\n",
            "15\n"
          ],
          "name": "stdout"
        }
      ]
    },
    {
      "cell_type": "code",
      "metadata": {
        "id": "VN9zGzygwpkJ",
        "colab_type": "code",
        "outputId": "eaba7bab-72e4-4eb0-f9ec-e6c017740249",
        "colab": {
          "base_uri": "https://localhost:8080/",
          "height": 36
        }
      },
      "source": [
        "newlist"
      ],
      "execution_count": 0,
      "outputs": [
        {
          "output_type": "execute_result",
          "data": {
            "text/plain": [
              "[6, 10, 15]"
            ]
          },
          "metadata": {
            "tags": []
          },
          "execution_count": 25
        }
      ]
    },
    {
      "cell_type": "markdown",
      "metadata": {
        "id": "RA1nZjBAxZ9q",
        "colab_type": "text"
      },
      "source": [
        "## Functions ## \n",
        "\n",
        "Codes can quickly get pretty long, complicated and repetitive. Very often we may want to use that code again, on a different dataset or at a different point in our program. Cutting and pasting is definitely not a reasonable solution to this. It would be easier to isolate repeating operations such that they can be reused with other datasets as well. Progamming languages provide such ability by letting us define things called ‘functions’ — a shorthand way of re-executing longer pieces of code. \n",
        "\n",
        "Variables are manipulated using functions (and operators). The name of the function is bound to compound operation. Python has different types of functions:\n",
        "\n",
        "  * __Custom functions__\n",
        "    * You can create your own functions.\n"
      ]
    },
    {
      "cell_type": "code",
      "metadata": {
        "id": "J-lDzjyAyUad",
        "colab_type": "code",
        "colab": {}
      },
      "source": [
        "def fiveormore(alist):\n",
        "  newlist = []\n",
        "  for i in alist:\n",
        "    if i > 5:\n",
        "      print(i)\n",
        "      newlist.append(i)\n",
        "    else:\n",
        "      print( str(i) +' is not greater than 5.' )\n",
        "  return newlist"
      ],
      "execution_count": 0,
      "outputs": []
    },
    {
      "cell_type": "code",
      "metadata": {
        "id": "NZcY89W3ywxI",
        "colab_type": "code",
        "outputId": "2f8dd5a7-4429-4142-a6a9-0e119107df16",
        "colab": {
          "base_uri": "https://localhost:8080/",
          "height": 111
        }
      },
      "source": [
        "result_numlist = fiveormore(numlist)\n",
        "result_numlist"
      ],
      "execution_count": 0,
      "outputs": [
        {
          "output_type": "stream",
          "text": [
            "4 is not greater than 5.\n",
            "6\n",
            "10\n",
            "15\n"
          ],
          "name": "stdout"
        },
        {
          "output_type": "execute_result",
          "data": {
            "text/plain": [
              "[6, 10, 15]"
            ]
          },
          "metadata": {
            "tags": []
          },
          "execution_count": 41
        }
      ]
    },
    {
      "cell_type": "code",
      "metadata": {
        "id": "0pjLkgt8y1tL",
        "colab_type": "code",
        "outputId": "1394183d-0a3a-4a0c-e353-32741d1650f2",
        "colab": {
          "base_uri": "https://localhost:8080/",
          "height": 148
        }
      },
      "source": [
        "anotherlist = [0.5, 1, 6, 12.5, 16, 20]\n",
        "result_anotherlist = fiveormore(anotherlist)\n",
        "result_anotherlist"
      ],
      "execution_count": 0,
      "outputs": [
        {
          "output_type": "stream",
          "text": [
            "0.5 is not greater than 5.\n",
            "1 is not greater than 5.\n",
            "6\n",
            "12.5\n",
            "16\n",
            "20\n"
          ],
          "name": "stdout"
        },
        {
          "output_type": "execute_result",
          "data": {
            "text/plain": [
              "[6, 12.5, 16, 20]"
            ]
          },
          "metadata": {
            "tags": []
          },
          "execution_count": 42
        }
      ]
    },
    {
      "cell_type": "markdown",
      "metadata": {
        "id": "SFwJM7KtyUwq",
        "colab_type": "text"
      },
      "source": [
        "* __Built-in functions__\n",
        "  * Python interpreter has a number of functions and types built into it that are always available. \n",
        "  * For a list of built-in functions of python see here: https://docs.python.org/3/library/functions.html"
      ]
    },
    {
      "cell_type": "code",
      "metadata": {
        "id": "EQokstg5gBJu",
        "colab_type": "code",
        "outputId": "a448b606-6ad0-4fe9-ea41-67bde565e786",
        "colab": {
          "base_uri": "https://localhost:8080/",
          "height": 36
        }
      },
      "source": [
        "b"
      ],
      "execution_count": 0,
      "outputs": [
        {
          "output_type": "execute_result",
          "data": {
            "text/plain": [
              "'Hello World!'"
            ]
          },
          "metadata": {
            "tags": []
          },
          "execution_count": 43
        }
      ]
    },
    {
      "cell_type": "code",
      "metadata": {
        "id": "PcVJtbFmyXYg",
        "colab_type": "code",
        "outputId": "7f1af955-bb0c-4935-cc63-6a89d8697693",
        "colab": {
          "base_uri": "https://localhost:8080/",
          "height": 36
        }
      },
      "source": [
        "blist = list(b)\n",
        "blist"
      ],
      "execution_count": 0,
      "outputs": [
        {
          "output_type": "execute_result",
          "data": {
            "text/plain": [
              "['H', 'e', 'l', 'l', 'o', ' ', 'W', 'o', 'r', 'l', 'd', '!']"
            ]
          },
          "metadata": {
            "tags": []
          },
          "execution_count": 47
        }
      ]
    },
    {
      "cell_type": "code",
      "metadata": {
        "id": "KGRmqsyv0AGz",
        "colab_type": "code",
        "outputId": "1cceff8e-82ea-40a8-c3c5-53a1214ba69e",
        "colab": {
          "base_uri": "https://localhost:8080/",
          "height": 36
        }
      },
      "source": [
        "len(blist)"
      ],
      "execution_count": 0,
      "outputs": [
        {
          "output_type": "execute_result",
          "data": {
            "text/plain": [
              "12"
            ]
          },
          "metadata": {
            "tags": []
          },
          "execution_count": 48
        }
      ]
    },
    {
      "cell_type": "code",
      "metadata": {
        "id": "LcdQl1m00Kjy",
        "colab_type": "code",
        "outputId": "9ce7686d-b90b-44a8-8197-4cc3fca4d4a0",
        "colab": {
          "base_uri": "https://localhost:8080/",
          "height": 36
        }
      },
      "source": [
        "sum(numlist)"
      ],
      "execution_count": 0,
      "outputs": [
        {
          "output_type": "execute_result",
          "data": {
            "text/plain": [
              "35"
            ]
          },
          "metadata": {
            "tags": []
          },
          "execution_count": 49
        }
      ]
    },
    {
      "cell_type": "code",
      "metadata": {
        "id": "9tJGDrMe0Ngt",
        "colab_type": "code",
        "outputId": "72584652-3398-400a-e542-e875c67df9e0",
        "colab": {
          "base_uri": "https://localhost:8080/",
          "height": 174
        }
      },
      "source": [
        "round(anotherlist)"
      ],
      "execution_count": 0,
      "outputs": [
        {
          "output_type": "error",
          "ename": "TypeError",
          "evalue": "ignored",
          "traceback": [
            "\u001b[0;31m---------------------------------------------------------------------------\u001b[0m",
            "\u001b[0;31mTypeError\u001b[0m                                 Traceback (most recent call last)",
            "\u001b[0;32m<ipython-input-53-0572ea08cdf3>\u001b[0m in \u001b[0;36m<module>\u001b[0;34m()\u001b[0m\n\u001b[0;32m----> 1\u001b[0;31m \u001b[0mround\u001b[0m\u001b[0;34m(\u001b[0m\u001b[0manotherlist\u001b[0m\u001b[0;34m)\u001b[0m\u001b[0;34m\u001b[0m\u001b[0;34m\u001b[0m\u001b[0m\n\u001b[0m",
            "\u001b[0;31mTypeError\u001b[0m: type list doesn't define __round__ method"
          ]
        }
      ]
    },
    {
      "cell_type": "code",
      "metadata": {
        "id": "i2oR770g0PB3",
        "colab_type": "code",
        "outputId": "a7938c41-a420-4d45-e257-aa6376692955",
        "colab": {
          "base_uri": "https://localhost:8080/",
          "height": 129
        }
      },
      "source": [
        "for i in anotherlist:\n",
        "    print(round(i))"
      ],
      "execution_count": 0,
      "outputs": [
        {
          "output_type": "stream",
          "text": [
            "0\n",
            "1\n",
            "6\n",
            "12\n",
            "16\n",
            "20\n"
          ],
          "name": "stdout"
        }
      ]
    },
    {
      "cell_type": "markdown",
      "metadata": {
        "id": "VvFGN9tlyXuD",
        "colab_type": "text"
      },
      "source": [
        "* __Methods__\n",
        "  * Functions that are attached to specific class of objects.\n",
        "  * Methods are accessed using the dot expression.\n",
        "  * Methods available to an object can be viewed using \"dir\" function."
      ]
    },
    {
      "cell_type": "code",
      "metadata": {
        "id": "jbxZ_yWxybRm",
        "colab_type": "code",
        "outputId": "830cf381-8a11-43fb-d024-b12edfd42140",
        "colab": {
          "base_uri": "https://localhost:8080/",
          "height": 36
        }
      },
      "source": [
        "numlist.append([14,16])\n",
        "numlist"
      ],
      "execution_count": 0,
      "outputs": [
        {
          "output_type": "execute_result",
          "data": {
            "text/plain": [
              "[4, 6, 10, 15, [14, 16]]"
            ]
          },
          "metadata": {
            "tags": []
          },
          "execution_count": 54
        }
      ]
    },
    {
      "cell_type": "code",
      "metadata": {
        "id": "q7E7XQdz1L5i",
        "colab_type": "code",
        "outputId": "69b4f31e-9b01-40a6-8da1-d213de7bebe7",
        "colab": {
          "base_uri": "https://localhost:8080/",
          "height": 36
        }
      },
      "source": [
        "numlist.remove([14,16])\n",
        "numlist"
      ],
      "execution_count": 0,
      "outputs": [
        {
          "output_type": "execute_result",
          "data": {
            "text/plain": [
              "[4, 6, 10, 15]"
            ]
          },
          "metadata": {
            "tags": []
          },
          "execution_count": 55
        }
      ]
    },
    {
      "cell_type": "code",
      "metadata": {
        "id": "OG2BH7-B1JeV",
        "colab_type": "code",
        "outputId": "948ee46b-8d45-4fb1-e53c-f472e1473106",
        "colab": {
          "base_uri": "https://localhost:8080/",
          "height": 877
        }
      },
      "source": [
        "dir(numlist)"
      ],
      "execution_count": 0,
      "outputs": [
        {
          "output_type": "execute_result",
          "data": {
            "text/plain": [
              "['__add__',\n",
              " '__class__',\n",
              " '__contains__',\n",
              " '__delattr__',\n",
              " '__delitem__',\n",
              " '__dir__',\n",
              " '__doc__',\n",
              " '__eq__',\n",
              " '__format__',\n",
              " '__ge__',\n",
              " '__getattribute__',\n",
              " '__getitem__',\n",
              " '__gt__',\n",
              " '__hash__',\n",
              " '__iadd__',\n",
              " '__imul__',\n",
              " '__init__',\n",
              " '__init_subclass__',\n",
              " '__iter__',\n",
              " '__le__',\n",
              " '__len__',\n",
              " '__lt__',\n",
              " '__mul__',\n",
              " '__ne__',\n",
              " '__new__',\n",
              " '__reduce__',\n",
              " '__reduce_ex__',\n",
              " '__repr__',\n",
              " '__reversed__',\n",
              " '__rmul__',\n",
              " '__setattr__',\n",
              " '__setitem__',\n",
              " '__sizeof__',\n",
              " '__str__',\n",
              " '__subclasshook__',\n",
              " 'append',\n",
              " 'clear',\n",
              " 'copy',\n",
              " 'count',\n",
              " 'extend',\n",
              " 'index',\n",
              " 'insert',\n",
              " 'pop',\n",
              " 'remove',\n",
              " 'reverse',\n",
              " 'sort']"
            ]
          },
          "metadata": {
            "tags": []
          },
          "execution_count": 56
        }
      ]
    },
    {
      "cell_type": "markdown",
      "metadata": {
        "id": "aBou1ziuyb2I",
        "colab_type": "text"
      },
      "source": [
        "* Functions in third party modules\n",
        "  * As a popular open source development project, Python has an active supporting community of contributors and users that also make their software available for other Python developers to use under open source license terms.\n",
        "  * The __SciPy__ stack is a Python based eco-system of open-source software for mathematics, science, and engineering. In particular, these are some of its core packages that we will use: \n",
        "    * NumPy\n",
        "    * Pandas\n",
        "    * Matplotlib\n",
        "  * __Scikit-Learn__ is another Python's go-to package for Machine Learning.\n"
      ]
    }
  ]
}