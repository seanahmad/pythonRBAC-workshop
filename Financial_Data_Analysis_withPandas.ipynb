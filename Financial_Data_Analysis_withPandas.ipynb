{
 "cells": [
  {
   "cell_type": "markdown",
   "metadata": {
    "colab_type": "text",
    "id": "LIikg8cpf2ab"
   },
   "source": [
    "# Intro to Python Workshop #"
   ]
  },
  {
   "cell_type": "markdown",
   "metadata": {
    "colab_type": "text",
    "id": "nKHcLRtTX2e9"
   },
   "source": [
    "## Pandas, Numpy and Matplotlib for Financial Data Analysis ## \n",
    "\n",
    "### Intro to Pandas ###\n",
    "\n",
    "Before we can use the functions of third party modules, we need to import the module. Then, the methods of the module will be available for various use.\n"
   ]
  },
  {
   "cell_type": "code",
   "execution_count": null,
   "metadata": {
    "colab": {},
    "colab_type": "code",
    "id": "hdx_oPqNftG6"
   },
   "outputs": [],
   "source": [
    "import pandas_datareader.data as web\n",
    "import datetime as dt\n",
    "import numpy as np\n",
    "import pandas as pd\n",
    "\n",
    "import matplotlib.pyplot as plt\n",
    "import matplotlib as mpl"
   ]
  },
  {
   "cell_type": "markdown",
   "metadata": {
    "colab_type": "text",
    "id": "j0Ue0QMbBG6f"
   },
   "source": [
    "A string can be converted into datetime using the datetime function of datetime module. "
   ]
  },
  {
   "cell_type": "code",
   "execution_count": null,
   "metadata": {
    "colab": {},
    "colab_type": "code",
    "id": "gV7gp9zfhrE1"
   },
   "outputs": [],
   "source": [
    "start = dt.datetime(2017, 1, 1)\n",
    "end = dt.datetime(2019, 12, 31)"
   ]
  },
  {
   "cell_type": "markdown",
   "metadata": {
    "colab_type": "text",
    "id": "WP_KjsE7BSEu"
   },
   "source": [
    "We can create a list of stocks whose data we want to analyze."
   ]
  },
  {
   "cell_type": "code",
   "execution_count": null,
   "metadata": {
    "colab": {},
    "colab_type": "code",
    "id": "vEYOuwZghw5U"
   },
   "outputs": [],
   "source": [
    "stock_tickers = ['AMZN', 'MSFT', 'AAPL', 'GOOG', 'IBM']"
   ]
  },
  {
   "cell_type": "markdown",
   "metadata": {
    "colab_type": "text",
    "id": "LmjqJNeQBcfU"
   },
   "source": [
    "We load the data using the DataReader functionality."
   ]
  },
  {
   "cell_type": "code",
   "execution_count": null,
   "metadata": {
    "colab": {
     "base_uri": "https://localhost:8080/",
     "height": 238
    },
    "colab_type": "code",
    "id": "qLb-oWf7imyW",
    "outputId": "6b3f0681-0b9f-40b9-fc02-80b619ac5db0"
   },
   "outputs": [],
   "source": [
    "df = web.DataReader(stock_tickers[0], 'yahoo', start, end)\n",
    "df.head()"
   ]
  },
  {
   "cell_type": "code",
   "execution_count": null,
   "metadata": {
    "colab": {
     "base_uri": "https://localhost:8080/",
     "height": 219
    },
    "colab_type": "code",
    "id": "S7nWQEjqjIwP",
    "outputId": "c99b93cc-b87c-45ae-d170-e0710ccd7d26"
   },
   "outputs": [],
   "source": [
    "df.info()"
   ]
  },
  {
   "cell_type": "markdown",
   "metadata": {
    "colab_type": "text",
    "id": "7SoheAetBsWf"
   },
   "source": [
    "Pandas dataframes have index for both rows and columns."
   ]
  },
  {
   "cell_type": "code",
   "execution_count": null,
   "metadata": {
    "colab": {
     "base_uri": "https://localhost:8080/",
     "height": 164
    },
    "colab_type": "code",
    "id": "2gT6IzuQVNBk",
    "outputId": "f235d3b7-9621-4ebb-c401-a3c6d56ce8a8"
   },
   "outputs": [],
   "source": [
    "df.index"
   ]
  },
  {
   "cell_type": "code",
   "execution_count": null,
   "metadata": {
    "colab": {
     "base_uri": "https://localhost:8080/",
     "height": 35
    },
    "colab_type": "code",
    "id": "rR4YLTHOVQqy",
    "outputId": "ec240dbb-bc2a-4169-9e4e-a3225d11e41e"
   },
   "outputs": [],
   "source": [
    "df.columns"
   ]
  },
  {
   "cell_type": "markdown",
   "metadata": {
    "colab_type": "text",
    "id": "yqis9sh3B1UU"
   },
   "source": [
    ".loc and .iloc are recommended method for indexing, slicing and filtering dataframes."
   ]
  },
  {
   "cell_type": "code",
   "execution_count": null,
   "metadata": {
    "colab": {
     "base_uri": "https://localhost:8080/",
     "height": 455
    },
    "colab_type": "code",
    "id": "OuS1-bQQVZ2C",
    "outputId": "51d1eb8f-2306-4fcd-b7e1-df335d4068b4"
   },
   "outputs": [],
   "source": [
    "df.loc[df.index<='2017-10-25', ['Adj Close']]"
   ]
  },
  {
   "cell_type": "code",
   "execution_count": null,
   "metadata": {
    "colab": {
     "base_uri": "https://localhost:8080/",
     "height": 146
    },
    "colab_type": "code",
    "id": "SPRT3MYkVSgw",
    "outputId": "84b29c76-57cc-4443-f996-d65d46546dc8"
   },
   "outputs": [],
   "source": [
    "df.iloc[:5,-1]"
   ]
  },
  {
   "cell_type": "code",
   "execution_count": null,
   "metadata": {
    "colab": {
     "base_uri": "https://localhost:8080/",
     "height": 455
    },
    "colab_type": "code",
    "id": "h_1hhHuWVqgM",
    "outputId": "d79928f5-5438-4f38-84cf-96790135fc85"
   },
   "outputs": [],
   "source": [
    "df.loc[df.index<='2017-10-25', ['Adj Close']]"
   ]
  },
  {
   "cell_type": "markdown",
   "metadata": {
    "colab_type": "text",
    "id": "xsp0EjFTB_YB"
   },
   "source": [
    "From the data we imported we will only use two columns - Volume and Adj Close."
   ]
  },
  {
   "cell_type": "code",
   "execution_count": null,
   "metadata": {
    "colab": {},
    "colab_type": "code",
    "id": "PWGpb-5fkyM5"
   },
   "outputs": [],
   "source": [
    "df = df[['Adj Close', 'Volume']]"
   ]
  },
  {
   "cell_type": "markdown",
   "metadata": {
    "colab_type": "text",
    "id": "CRShbwHcCGnK"
   },
   "source": [
    "We will use matplotlib module to see stock prices over time in a line plot. "
   ]
  },
  {
   "cell_type": "code",
   "execution_count": null,
   "metadata": {
    "colab": {
     "base_uri": "https://localhost:8080/",
     "height": 336
    },
    "colab_type": "code",
    "id": "t3F4XtqvyTQF",
    "outputId": "2c6800ae-e670-497d-f25d-9bef8f2b9d23"
   },
   "outputs": [],
   "source": [
    "mpl.rc('figure', figsize=(10, 5))\n",
    "plt.plot(df['Adj Close'])\n",
    "plt.title('Daily lcosing price price of ' + stock_tickers[0])\n",
    "plt.show()"
   ]
  },
  {
   "cell_type": "markdown",
   "metadata": {
    "colab_type": "text",
    "id": "9AjqkCSwCPGH"
   },
   "source": [
    "### Financial Data Analysis ### \n",
    "\n",
    "A datetime format gives us more ways of extracting information from date which can then be assigned back to the Pandas' dataframes as columns. \n"
   ]
  },
  {
   "cell_type": "code",
   "execution_count": null,
   "metadata": {
    "colab": {
     "base_uri": "https://localhost:8080/",
     "height": 238
    },
    "colab_type": "code",
    "id": "iNyOTHHSWV4N",
    "outputId": "640eeb66-2e0d-48b8-e457-f1055381ee05"
   },
   "outputs": [],
   "source": [
    "df['Year']=df.index.year\n",
    "df['Month']=df.index.month\n",
    "df['Weekday']=df.index.weekday\n",
    "df.head()"
   ]
  },
  {
   "cell_type": "markdown",
   "metadata": {
    "colab_type": "text",
    "id": "sEMeGYEqCbT-"
   },
   "source": [
    "Methods such as .groupby, .apply and .agg are some of the most widely used methods for data analysis. "
   ]
  },
  {
   "cell_type": "code",
   "execution_count": null,
   "metadata": {
    "colab": {
     "base_uri": "https://localhost:8080/",
     "height": 201
    },
    "colab_type": "code",
    "id": "-avbKmGjDnB9",
    "outputId": "4fe6bcf7-06d7-4210-b7e0-26b94e162ab6"
   },
   "outputs": [],
   "source": [
    "df.groupby('Year')['Adj Close'].mean()"
   ]
  },
  {
   "cell_type": "markdown",
   "metadata": {
    "colab_type": "text",
    "id": "jztVnWcJDn-L"
   },
   "source": [
    "Let's calculate the daily return rate of this stock."
   ]
  },
  {
   "cell_type": "code",
   "execution_count": null,
   "metadata": {
    "colab": {
     "base_uri": "https://localhost:8080/",
     "height": 336
    },
    "colab_type": "code",
    "id": "DFphBat6j0QC",
    "outputId": "b8685eea-18f0-465f-d1dd-122bb1c9222b"
   },
   "outputs": [],
   "source": [
    "df['returns'] = df['Adj Close'] / df['Adj Close'].shift(1) -1\n",
    "plt.plot(df['returns'])\n",
    "plt.title('Daily change in price of ' + stock_tickers[0])\n",
    "plt.show()"
   ]
  },
  {
   "cell_type": "markdown",
   "metadata": {
    "colab_type": "text",
    "id": "C5Cu2r3As9Cq"
   },
   "source": [
    "A __(simple) moving average (MA)__ is a widely used indicator in technical analysis that helps smooth out price action by filtering out the “noise” from random short-term price fluctuations. It is a trend-following, or lagging, indicator because it is based on past prices.\n",
    "\n",
    "The length of the moving average to use depends on the trading objectives, with shorter moving averages used for short-term trading and longer-term moving averages more suited for long-term investors. The 50-day and 200-day MAs are widely followed by investors and traders, with breaks above and below this moving average considered to be important trading signals.\n",
    "\n",
    "Source: https://www.investopedia.com/terms/m/movingaverage.asp"
   ]
  },
  {
   "cell_type": "code",
   "execution_count": null,
   "metadata": {
    "colab": {
     "base_uri": "https://localhost:8080/",
     "height": 238
    },
    "colab_type": "code",
    "id": "dL1KzIJuj2Zm",
    "outputId": "3b9abc70-c884-4a31-9150-3b9b8a6cbad8"
   },
   "outputs": [],
   "source": [
    "df['MA_50d'] = df['Adj Close'].rolling(window=50).mean()\n",
    "df['MA_100d'] = df['Adj Close'].rolling(window=100).mean()\n",
    "df.tail()"
   ]
  },
  {
   "cell_type": "markdown",
   "metadata": {
    "colab_type": "text",
    "id": "P71aIog6FSud"
   },
   "source": [
    "Now, let's plot the adjusted closing price along with the two moving averages we calculated above in one plot. "
   ]
  },
  {
   "cell_type": "code",
   "execution_count": null,
   "metadata": {
    "colab": {
     "base_uri": "https://localhost:8080/",
     "height": 318
    },
    "colab_type": "code",
    "id": "OnCPU_jclayh",
    "outputId": "15853b70-80a8-4c7d-accf-f4f106609354"
   },
   "outputs": [],
   "source": [
    "df['Adj Close'].plot(label=stock_tickers[0])\n",
    "df['MA_50d'].plot(label='50-day moving avg', linewidth=3)\n",
    "df['MA_100d'].plot(label='100-day moving avg',  linewidth=3, alpha=.5)\n",
    "plt.legend()\n",
    "plt.show()"
   ]
  },
  {
   "cell_type": "markdown",
   "metadata": {
    "colab_type": "text",
    "id": "deMIJ0-FFcUN"
   },
   "source": [
    "__Volatility__ is a statistical measure of the dispersion of returns for a given security or market index. In most cases, the higher the volatility, the riskier the security. Volatility is often measured as either the standard deviation or variance between returns from that same security or market index.\n",
    "\n",
    "Source: https://www.investopedia.com/terms/v/volatility.asp"
   ]
  },
  {
   "cell_type": "code",
   "execution_count": null,
   "metadata": {
    "colab": {
     "base_uri": "https://localhost:8080/",
     "height": 336
    },
    "colab_type": "code",
    "id": "HPo2BmoSmCSo",
    "outputId": "e9293891-30bd-4287-c402-92e7423e5e3c"
   },
   "outputs": [],
   "source": [
    "df['volatility'] = df['Adj Close'].rolling(50).std()\n",
    "plt.plot(df['volatility'])\n",
    "plt.title('50-Day volatility of ' + stock_tickers[0])\n",
    "plt.show()"
   ]
  },
  {
   "cell_type": "markdown",
   "metadata": {
    "colab_type": "text",
    "id": "WzltS25FFwuz"
   },
   "source": [
    "### Predicting Stock Prices ### \n",
    "\n",
    "We can build a linear regression model to predict future stock prices and see how it performs by comparing it against the actual data. Let's prepare the data for this task. "
   ]
  },
  {
   "cell_type": "code",
   "execution_count": null,
   "metadata": {
    "colab": {
     "base_uri": "https://localhost:8080/",
     "height": 394
    },
    "colab_type": "code",
    "id": "NjSaG6bB5Toq",
    "outputId": "96a97ae2-ca1f-4f08-bc46-2cf09528becd"
   },
   "outputs": [],
   "source": [
    "df['prediction'] = df['Adj Close'].shift(-1)\n",
    "df.tail(10)"
   ]
  },
  {
   "cell_type": "code",
   "execution_count": null,
   "metadata": {
    "colab": {},
    "colab_type": "code",
    "id": "aK5KWFq1u4uL"
   },
   "outputs": [],
   "source": [
    "X = df[['Volume','MA_50d', 'prediction']].copy() #'Volume', 'returns', 'Month', \n",
    "X.dropna(inplace=True)\n",
    "y = X[['prediction']]\n",
    "X.drop('prediction', axis=1, inplace=True)"
   ]
  },
  {
   "cell_type": "code",
   "execution_count": null,
   "metadata": {
    "colab": {},
    "colab_type": "code",
    "id": "pqjAaiiByLqi"
   },
   "outputs": [],
   "source": [
    "npred = 200\n",
    "X_train = X[:-npred]\n",
    "X_test = X[-npred:]\n",
    "y_train = y[:-npred]\n",
    "y_test = y[-npred:]"
   ]
  },
  {
   "cell_type": "code",
   "execution_count": null,
   "metadata": {
    "colab": {
     "base_uri": "https://localhost:8080/",
     "height": 35
    },
    "colab_type": "code",
    "id": "KM-Y6oMhuecI",
    "outputId": "b9568a6b-5534-4f0a-e0d4-edcd10d35bae"
   },
   "outputs": [],
   "source": [
    "from sklearn.linear_model import LinearRegression \n",
    "\n",
    "lr = LinearRegression()\n",
    "lr.fit(X_train, y_train)\n",
    "y_pred = lr.predict(X_test)"
   ]
  },
  {
   "cell_type": "code",
   "execution_count": null,
   "metadata": {
    "colab": {},
    "colab_type": "code",
    "id": "jiPqHHxvxaIi"
   },
   "outputs": [],
   "source": [
    "y_pred = pd.DataFrame( y_pred, index=y_test.index)"
   ]
  },
  {
   "cell_type": "code",
   "execution_count": null,
   "metadata": {
    "colab": {
     "base_uri": "https://localhost:8080/",
     "height": 320
    },
    "colab_type": "code",
    "id": "dHTHfiLnxHdh",
    "outputId": "a552636d-f345-4893-bc08-2025e4c6ce30"
   },
   "outputs": [],
   "source": [
    "plt.plot(df.loc[df.index >= '2018-01-01', ['prediction']])\n",
    "plt.plot(y_pred.shift(1))\n",
    "plt.show()"
   ]
  },
  {
   "cell_type": "markdown",
   "metadata": {
    "colab_type": "text",
    "id": "EIKqaX6g-TIE"
   },
   "source": [
    "Now that we have the results for the first stock in the list, we can use the same methodology to obtains results for the rest of the stocks in the stock_tickers list. However, we can avoid having to repeat these codes over and over again for each stock on the list by creating a function that binds these operations."
   ]
  },
  {
   "cell_type": "code",
   "execution_count": null,
   "metadata": {
    "colab": {},
    "colab_type": "code",
    "id": "NNJQDWXOjX6a"
   },
   "outputs": [],
   "source": [
    "import pandas_datareader.data as web\n",
    "import datetime\n",
    "import numpy as np\n",
    "import pandas as pd\n",
    "\n",
    "import matplotlib.pyplot as plt\n",
    "import matplotlib as mpl\n",
    "\n",
    "from sklearn.linear_model import LinearRegression \n",
    "\n",
    "start = datetime.datetime(2012, 1, 1)\n",
    "end = datetime.datetime(2019, 12, 31)\n",
    "\n",
    "# list of companies whose stock you want to analyze\n",
    "stock_tickers = ['AMZN', 'MSFT', 'AAPL', 'GOOG', 'IBM']"
   ]
  },
  {
   "cell_type": "code",
   "execution_count": null,
   "metadata": {
    "colab": {},
    "colab_type": "code",
    "id": "RmGS66rH5dk_"
   },
   "outputs": [],
   "source": [
    "def lrpredictions(stockticker, start, end, npred, show_result=False):\n",
    "    # preprocessing\n",
    "    df = web.DataReader(stockticker, 'yahoo', start, end)\n",
    "    df = df[['Adj Close', 'Volume']]\n",
    "    df['Year']=df.index.year\n",
    "    df['Month']=df.index.month\n",
    "    df['Weekday']=df.index.weekday\n",
    "    df['returns'] = df['Adj Close'] / df['Adj Close'].shift(1) -1\n",
    "    df['MA_50d'] = df['Adj Close'].rolling(window=50).mean()\n",
    "    df['MA_100d'] = df['Adj Close'].rolling(window=100).mean()\n",
    "    df['volatility'] = df['Adj Close'].rolling(50).std()\n",
    "    df['prediction'] = df['Adj Close'].shift(-1)\n",
    "  \n",
    "    # data for linear regression\n",
    "    X = df[['Volume', 'MA_50d', 'prediction']].copy()\n",
    "    X.dropna(inplace=True)\n",
    "    y = X[['prediction']]\n",
    "    X.drop('prediction', axis=1, inplace=True)\n",
    "\n",
    "    # split train and test sets\n",
    "    X_train = X[:-npred]\n",
    "    X_test = X[-npred:]\n",
    "    y_train = y[:-npred]\n",
    "    y_test = y[-npred:]\n",
    "\n",
    "    # linear regression model fitting and prediction\n",
    "    lr = LinearRegression()\n",
    "    lr.fit(X_train, y_train)\n",
    "    y_pred = lr.predict(X_test)\n",
    "\n",
    "    # plot real vs prediction values\n",
    "    y_pred = pd.DataFrame( y_pred, index=y_test.index)\n",
    "    mpl.rc('figure', figsize=(10, 5))\n",
    "    plt.plot(df.loc[df.index >= '2018-01-01', ['prediction']])\n",
    "    plt.plot(y_pred.shift(1))\n",
    "    plt.title('Actual vs. Prediction for '+ stockticker)\n",
    "    plt.ylabel('Stock price')\n",
    "    plt.show()\n",
    "\n",
    "    if show_result:\n",
    "        return [X, y, y_pred]"
   ]
  },
  {
   "cell_type": "code",
   "execution_count": null,
   "metadata": {
    "colab": {
     "base_uri": "https://localhost:8080/",
     "height": 336
    },
    "colab_type": "code",
    "id": "Ri87d4556M5_",
    "outputId": "9a1eeb27-74bd-4eab-98eb-744f658b8597"
   },
   "outputs": [],
   "source": [
    "lrpredictions(stock_tickers[1], start, end, 200)"
   ]
  },
  {
   "cell_type": "markdown",
   "metadata": {
    "colab_type": "text",
    "id": "0F9QxkaW-7c3"
   },
   "source": [
    "We can use a loop to do this all at once. "
   ]
  },
  {
   "cell_type": "code",
   "execution_count": null,
   "metadata": {
    "colab": {
     "base_uri": "https://localhost:8080/",
     "height": 1000
    },
    "colab_type": "code",
    "id": "nHz2NzZF6Tqf",
    "outputId": "b8439296-65ea-4837-c804-b24cc81d7572"
   },
   "outputs": [],
   "source": [
    "for i in range(0, len(stock_tickers)):\n",
    "    lrpredictions(stock_tickers[i], start, end, 200)"
   ]
  },
  {
   "cell_type": "markdown",
   "metadata": {
    "colab": {},
    "colab_type": "code",
    "id": "VOXGH06v87Y5"
   },
   "source": [
    "# Contact for Questions: tdmdal@rotman.utoronto.ca"
   ]
  }
 ],
 "metadata": {
  "colab": {
   "collapsed_sections": [],
   "name": "Financial_Data_Analysis_inPython.ipynb",
   "provenance": []
  },
  "kernelspec": {
   "display_name": "Python 3",
   "language": "python",
   "name": "python3"
  },
  "language_info": {
   "codemirror_mode": {
    "name": "ipython",
    "version": 3
   },
   "file_extension": ".py",
   "mimetype": "text/x-python",
   "name": "python",
   "nbconvert_exporter": "python",
   "pygments_lexer": "ipython3",
   "version": "3.7.3"
  }
 },
 "nbformat": 4,
 "nbformat_minor": 1
}
