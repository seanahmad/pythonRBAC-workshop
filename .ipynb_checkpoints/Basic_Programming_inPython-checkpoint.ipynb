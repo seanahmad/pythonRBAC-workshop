{
 "cells": [
  {
   "cell_type": "markdown",
   "metadata": {
    "colab_type": "text",
    "id": "LIikg8cpf2ab"
   },
   "source": [
    "# Intro to Python Workshop #"
   ]
  },
  {
   "cell_type": "markdown",
   "metadata": {
    "colab_type": "text",
    "id": "4POoACzaXUie"
   },
   "source": [
    "\n",
    "## Basic Data Structures ## \n",
    "\n",
    "* __Values__: A program works with values. Values can be numbers, texts, special characters and more.\n",
    "\n",
    "* __Types__: Values belong to different types. \n",
    "  * Numbers are usually of type integer or float. \n",
    "  * Texts are of type string. \n",
    "  * True and False are of boolean type.\n",
    "\n",
    "* __Variables__: Variable is a name that refers to a value. A powerful feature of programming language is the ability to manipulate variables.\n",
    "\n"
   ]
  },
  {
   "cell_type": "code",
   "execution_count": null,
   "metadata": {
    "colab": {
     "base_uri": "https://localhost:8080/",
     "height": 36
    },
    "colab_type": "code",
    "id": "IpEiK2QYyDUB",
    "outputId": "56b21cb7-48ae-4570-99a9-b360663d8d80"
   },
   "outputs": [],
   "source": [
    "a = 5\n",
    "print(a)"
   ]
  },
  {
   "cell_type": "code",
   "execution_count": null,
   "metadata": {
    "colab": {
     "base_uri": "https://localhost:8080/",
     "height": 36
    },
    "colab_type": "code",
    "id": "9xagQ_jyyGpu",
    "outputId": "25c4dca4-85ca-4bf4-9d64-7bd0d983e236"
   },
   "outputs": [],
   "source": [
    "print(type(a))"
   ]
  },
  {
   "cell_type": "markdown",
   "metadata": {
    "colab_type": "text",
    "id": "Tp4VxzpuZtpv"
   },
   "source": [
    "* __Strings__ is a data type.\n",
    "  * Strings are values contained by either single or double quotes.\n",
    "  * Strings are sequence of character(s).\n",
    "  * Each element of string can be __indexed__ and __sliced__ by its position.\n",
    "  * The position of an element is indicated by an integer value called index.\n",
    "\n",
    "__NOTE__ : Python index starts from 0 (not 1)."
   ]
  },
  {
   "cell_type": "code",
   "execution_count": null,
   "metadata": {
    "colab": {
     "base_uri": "https://localhost:8080/",
     "height": 54
    },
    "colab_type": "code",
    "id": "oIF7irAaYjFr",
    "outputId": "2cdef3ca-2d3c-4f0c-e7bb-930bec84565a"
   },
   "outputs": [],
   "source": [
    "b = 'Hello World!'\n",
    "print(b)\n",
    "print(type(b))"
   ]
  },
  {
   "cell_type": "code",
   "execution_count": null,
   "metadata": {
    "colab": {
     "base_uri": "https://localhost:8080/",
     "height": 36
    },
    "colab_type": "code",
    "id": "6tL9gI9YYnfF",
    "outputId": "afa3235e-cef1-4ec1-e246-6258cecee3a9"
   },
   "outputs": [],
   "source": [
    "len(b)"
   ]
  },
  {
   "cell_type": "code",
   "execution_count": null,
   "metadata": {
    "colab": {
     "base_uri": "https://localhost:8080/",
     "height": 36
    },
    "colab_type": "code",
    "id": "cOCynG-QYvkz",
    "outputId": "46236d89-5744-4b7c-89d4-8f4bde1b6de2"
   },
   "outputs": [],
   "source": [
    "b[0]"
   ]
  },
  {
   "cell_type": "code",
   "execution_count": null,
   "metadata": {
    "colab": {
     "base_uri": "https://localhost:8080/",
     "height": 36
    },
    "colab_type": "code",
    "id": "R1ynrfCB2hxi",
    "outputId": "ba40c18e-4301-49c5-f830-6731c94fab90"
   },
   "outputs": [],
   "source": [
    "b[:3]"
   ]
  },
  {
   "cell_type": "markdown",
   "metadata": {
    "colab_type": "text",
    "id": "dG9wKRJ9aVwG"
   },
   "source": [
    "## Data Structures Native to Python ## \n",
    "\n",
    "* __List__ : \n",
    "  * List is a mutable, ordered sequence of items. \n",
    "  * The items are stored inside square brackets separated by comma. \n",
    "  * Each item in the list can be indexed. "
   ]
  },
  {
   "cell_type": "code",
   "execution_count": null,
   "metadata": {
    "colab": {
     "base_uri": "https://localhost:8080/",
     "height": 54
    },
    "colab_type": "code",
    "id": "M0X0Nu1dyIdi",
    "outputId": "d1721631-93cc-4003-f50c-721a8f8f8d58"
   },
   "outputs": [],
   "source": [
    "fruits = ['apple', 'orange', 'peach']\n",
    "print(fruits)\n",
    "print(type(fruits))"
   ]
  },
  {
   "cell_type": "code",
   "execution_count": null,
   "metadata": {
    "colab": {
     "base_uri": "https://localhost:8080/",
     "height": 54
    },
    "colab_type": "code",
    "id": "gxnMHNSRate3",
    "outputId": "e2265117-6093-4e97-dd50-62cffeffce73"
   },
   "outputs": [],
   "source": [
    "numlist = [4, 8, 10, 15]\n",
    "print(numlist)\n",
    "print(type(numlist))"
   ]
  },
  {
   "cell_type": "code",
   "execution_count": null,
   "metadata": {
    "colab": {
     "base_uri": "https://localhost:8080/",
     "height": 36
    },
    "colab_type": "code",
    "id": "Za00jtdFb5Dm",
    "outputId": "8dd9977f-a332-47cc-a680-6dbe7d5ec958"
   },
   "outputs": [],
   "source": [
    "numlist[1] = 6\n",
    "print(numlist)"
   ]
  },
  {
   "cell_type": "markdown",
   "metadata": {
    "colab_type": "text",
    "id": "-RsXvUjBcU3K"
   },
   "source": [
    "* __Dictionary__ : \n",
    "  * A dictionary is a unordered, mutable collection of key-value pairs. \n",
    "  * Values in dictionaries can be indexed using the keys. \n",
    "  * Python dictionaries are written with curly brackets with each keys and values separated by a colon.\n",
    "  * Each key-value pairs are separated by comma.\n"
   ]
  },
  {
   "cell_type": "code",
   "execution_count": null,
   "metadata": {
    "colab": {
     "base_uri": "https://localhost:8080/",
     "height": 54
    },
    "colab_type": "code",
    "id": "uPp_RGQab6sQ",
    "outputId": "93f21e9f-f0ec-4b97-d580-97de1e20ce30"
   },
   "outputs": [],
   "source": [
    "fruits_dict = { 'apple': 5 , 'orange' : 2, 'peach' : 3 }\n",
    "print(fruits_dict)\n",
    "print(type(fruits_dict))"
   ]
  },
  {
   "cell_type": "code",
   "execution_count": null,
   "metadata": {
    "colab": {
     "base_uri": "https://localhost:8080/",
     "height": 36
    },
    "colab_type": "code",
    "id": "2AeuUv5KuqGJ",
    "outputId": "6171564c-3c1b-4d6e-b311-365cb913adcf"
   },
   "outputs": [],
   "source": [
    "fruits_dict['apple']"
   ]
  },
  {
   "cell_type": "code",
   "execution_count": null,
   "metadata": {
    "colab": {
     "base_uri": "https://localhost:8080/",
     "height": 36
    },
    "colab_type": "code",
    "id": "4IDX59BSYfrC",
    "outputId": "47a8d014-30fe-4da2-e52b-0826979a2346"
   },
   "outputs": [],
   "source": [
    "fruits_dict.keys()"
   ]
  },
  {
   "cell_type": "markdown",
   "metadata": {
    "colab_type": "text",
    "id": "NvoL-ZC1uHtW"
   },
   "source": [
    "## Programming Structures ## \n",
    "\n",
    "Programming structures define how certain operations written in code will be executed. All progamming structure fall under roughly three categories :\n",
    "Sequential, Conditional and Loops (Iteration).\n",
    "\n",
    "* __Sequential__\n",
    "  * Programs are mostly written sequentially, meaning the first line of program runs first followed by the program in the second line, then the third line and so on. For example:\n"
   ]
  },
  {
   "cell_type": "code",
   "execution_count": null,
   "metadata": {
    "colab": {
     "base_uri": "https://localhost:8080/",
     "height": 73
    },
    "colab_type": "code",
    "id": "uka751b_b63C",
    "outputId": "8016f745-ffc7-4cc6-ec90-1ba987af6d40"
   },
   "outputs": [],
   "source": [
    "print( fruits_dict['apple'] )\n",
    "print( fruits_dict['orange'] )\n",
    "print( fruits_dict['peach'] )"
   ]
  },
  {
   "cell_type": "markdown",
   "metadata": {
    "colab_type": "text",
    "id": "-RrC3vtauvhb"
   },
   "source": [
    "* __Conditional__\n",
    "  * Programs become more useful when we can change its behavior given a condition is satisfied. Such programs are conditional programs. \n",
    "  * In Python, conditionals can be created with 'if' directive and are mostly accompanied by comparison operators, such as \" == \", \" != \", \" > \", \" < \", \" >= \", etc."
   ]
  },
  {
   "cell_type": "code",
   "execution_count": null,
   "metadata": {
    "colab": {
     "base_uri": "https://localhost:8080/",
     "height": 36
    },
    "colab_type": "code",
    "id": "QhUzn-Q2Z7Ml",
    "outputId": "859fe7d2-b394-41e1-f485-15e4a737cf64"
   },
   "outputs": [],
   "source": [
    "numlist"
   ]
  },
  {
   "cell_type": "code",
   "execution_count": null,
   "metadata": {
    "colab": {
     "base_uri": "https://localhost:8080/",
     "height": 36
    },
    "colab_type": "code",
    "id": "nYKpX6DnutWA",
    "outputId": "7d1d0533-e127-4cfd-bacc-fe944529b72b"
   },
   "outputs": [],
   "source": [
    "if numlist[0] > 5:\n",
    "  print(numlist[0])\n",
    "else: \n",
    "  print('It is not greater than 5')"
   ]
  },
  {
   "cell_type": "markdown",
   "metadata": {
    "colab_type": "text",
    "id": "SJdz4F6fvh_R"
   },
   "source": [
    "* __Iteration__\n",
    "  * Programs become powerful when the same block of code can be repeatedly executed on either identical tasks or similar tasks. This can be done through iteration. \n",
    "  * There are two types of iteration:\n",
    "    * Definite iteration, in which the number of repetitions is specified in advance. In Python, this is performed using “For” statement.\n",
    "    * Indefinite iteration, in which the code block executes until some condition is met. In Python, this is performed with a “While” statement.\n"
   ]
  },
  {
   "cell_type": "code",
   "execution_count": null,
   "metadata": {
    "colab": {
     "base_uri": "https://localhost:8080/",
     "height": 92
    },
    "colab_type": "code",
    "id": "hCXr1RgVvzUw",
    "outputId": "df6c3390-ffbd-4a5c-9074-013e84a18a66"
   },
   "outputs": [],
   "source": [
    "newlist = []\n",
    "for i in numlist:\n",
    "  if i > 5:\n",
    "    print(i)\n",
    "    newlist.append(i)\n",
    "  else:\n",
    "    print( str(i) +' is not greater than 5.' )"
   ]
  },
  {
   "cell_type": "code",
   "execution_count": null,
   "metadata": {
    "colab": {
     "base_uri": "https://localhost:8080/",
     "height": 36
    },
    "colab_type": "code",
    "id": "VN9zGzygwpkJ",
    "outputId": "eaba7bab-72e4-4eb0-f9ec-e6c017740249"
   },
   "outputs": [],
   "source": [
    "newlist"
   ]
  },
  {
   "cell_type": "markdown",
   "metadata": {
    "colab_type": "text",
    "id": "RA1nZjBAxZ9q"
   },
   "source": [
    "## Functions ## \n",
    "\n",
    "Codes can quickly get pretty long, complicated and repetitive. Very often we may want to use that code again, on a different dataset or at a different point in our program. Cutting and pasting is definitely not a reasonable solution to this. It would be easier to isolate repeating operations such that they can be reused with other datasets as well. Progamming languages provide such ability by letting us define things called ‘functions’ — a shorthand way of re-executing longer pieces of code. \n",
    "\n",
    "Variables are manipulated using functions (and operators). The name of the function is bound to compound operation. Python has different types of functions:\n",
    "\n",
    "  * __Custom functions__\n",
    "    * You can create your own functions.\n"
   ]
  },
  {
   "cell_type": "code",
   "execution_count": null,
   "metadata": {
    "colab": {},
    "colab_type": "code",
    "id": "J-lDzjyAyUad"
   },
   "outputs": [],
   "source": [
    "def fiveormore(alist):\n",
    "  newlist = []\n",
    "  for i in alist:\n",
    "    if i > 5:\n",
    "      print(i)\n",
    "      newlist.append(i)\n",
    "    else:\n",
    "      print( str(i) +' is not greater than 5.' )\n",
    "  return newlist"
   ]
  },
  {
   "cell_type": "code",
   "execution_count": null,
   "metadata": {
    "colab": {
     "base_uri": "https://localhost:8080/",
     "height": 111
    },
    "colab_type": "code",
    "id": "NZcY89W3ywxI",
    "outputId": "2f8dd5a7-4429-4142-a6a9-0e119107df16"
   },
   "outputs": [],
   "source": [
    "result_numlist = fiveormore(numlist)\n",
    "result_numlist"
   ]
  },
  {
   "cell_type": "code",
   "execution_count": null,
   "metadata": {
    "colab": {
     "base_uri": "https://localhost:8080/",
     "height": 148
    },
    "colab_type": "code",
    "id": "0pjLkgt8y1tL",
    "outputId": "1394183d-0a3a-4a0c-e353-32741d1650f2"
   },
   "outputs": [],
   "source": [
    "anotherlist = [0.5, 1, 6, 12.5, 16, 20]\n",
    "result_anotherlist = fiveormore(anotherlist)\n",
    "result_anotherlist"
   ]
  },
  {
   "cell_type": "markdown",
   "metadata": {
    "colab_type": "text",
    "id": "SFwJM7KtyUwq"
   },
   "source": [
    "* __Built-in functions__\n",
    "  * Python interpreter has a number of functions and types built into it that are always available. \n",
    "  * For a list of built-in functions of python see here: https://docs.python.org/3/library/functions.html"
   ]
  },
  {
   "cell_type": "code",
   "execution_count": null,
   "metadata": {
    "colab": {
     "base_uri": "https://localhost:8080/",
     "height": 36
    },
    "colab_type": "code",
    "id": "EQokstg5gBJu",
    "outputId": "a448b606-6ad0-4fe9-ea41-67bde565e786"
   },
   "outputs": [],
   "source": [
    "b"
   ]
  },
  {
   "cell_type": "code",
   "execution_count": null,
   "metadata": {
    "colab": {
     "base_uri": "https://localhost:8080/",
     "height": 36
    },
    "colab_type": "code",
    "id": "PcVJtbFmyXYg",
    "outputId": "7f1af955-bb0c-4935-cc63-6a89d8697693"
   },
   "outputs": [],
   "source": [
    "blist = list(b)\n",
    "blist"
   ]
  },
  {
   "cell_type": "code",
   "execution_count": null,
   "metadata": {
    "colab": {
     "base_uri": "https://localhost:8080/",
     "height": 36
    },
    "colab_type": "code",
    "id": "KGRmqsyv0AGz",
    "outputId": "1cceff8e-82ea-40a8-c3c5-53a1214ba69e"
   },
   "outputs": [],
   "source": [
    "len(blist)"
   ]
  },
  {
   "cell_type": "code",
   "execution_count": null,
   "metadata": {
    "colab": {
     "base_uri": "https://localhost:8080/",
     "height": 36
    },
    "colab_type": "code",
    "id": "LcdQl1m00Kjy",
    "outputId": "9ce7686d-b90b-44a8-8197-4cc3fca4d4a0"
   },
   "outputs": [],
   "source": [
    "sum(numlist)"
   ]
  },
  {
   "cell_type": "code",
   "execution_count": null,
   "metadata": {
    "colab": {
     "base_uri": "https://localhost:8080/",
     "height": 174
    },
    "colab_type": "code",
    "id": "9tJGDrMe0Ngt",
    "outputId": "72584652-3398-400a-e542-e875c67df9e0"
   },
   "outputs": [],
   "source": [
    "round(anotherlist)"
   ]
  },
  {
   "cell_type": "code",
   "execution_count": null,
   "metadata": {
    "colab": {
     "base_uri": "https://localhost:8080/",
     "height": 129
    },
    "colab_type": "code",
    "id": "i2oR770g0PB3",
    "outputId": "a7938c41-a420-4d45-e257-aa6376692955"
   },
   "outputs": [],
   "source": [
    "for i in anotherlist:\n",
    "    print(round(i))"
   ]
  },
  {
   "cell_type": "markdown",
   "metadata": {
    "colab_type": "text",
    "id": "VvFGN9tlyXuD"
   },
   "source": [
    "* __Methods__\n",
    "  * Functions that are attached to specific class of objects.\n",
    "  * Methods are accessed using the dot expression.\n",
    "  * Methods available to an object can be viewed using \"dir\" function."
   ]
  },
  {
   "cell_type": "code",
   "execution_count": null,
   "metadata": {
    "colab": {
     "base_uri": "https://localhost:8080/",
     "height": 36
    },
    "colab_type": "code",
    "id": "jbxZ_yWxybRm",
    "outputId": "830cf381-8a11-43fb-d024-b12edfd42140"
   },
   "outputs": [],
   "source": [
    "numlist.append([14,16])\n",
    "numlist"
   ]
  },
  {
   "cell_type": "code",
   "execution_count": null,
   "metadata": {
    "colab": {
     "base_uri": "https://localhost:8080/",
     "height": 36
    },
    "colab_type": "code",
    "id": "q7E7XQdz1L5i",
    "outputId": "69b4f31e-9b01-40a6-8da1-d213de7bebe7"
   },
   "outputs": [],
   "source": [
    "numlist.remove([14,16])\n",
    "numlist"
   ]
  },
  {
   "cell_type": "code",
   "execution_count": null,
   "metadata": {
    "colab": {
     "base_uri": "https://localhost:8080/",
     "height": 877
    },
    "colab_type": "code",
    "id": "OG2BH7-B1JeV",
    "outputId": "948ee46b-8d45-4fb1-e53c-f472e1473106"
   },
   "outputs": [],
   "source": [
    "dir(numlist)"
   ]
  },
  {
   "cell_type": "markdown",
   "metadata": {
    "colab_type": "text",
    "id": "aBou1ziuyb2I"
   },
   "source": [
    "* Functions in third party modules\n",
    "  * As a popular open source development project, Python has an active supporting community of contributors and users that also make their software available for other Python developers to use under open source license terms.\n",
    "  * The __SciPy__ stack is a Python based eco-system of open-source software for mathematics, science, and engineering. In particular, these are some of its core packages that we will use: \n",
    "    * NumPy\n",
    "    * Pandas\n",
    "    * Matplotlib\n",
    "  * __Scikit-Learn__ is another Python's go-to package for Machine Learning.\n"
   ]
  }
 ],
 "metadata": {
  "colab": {
   "collapsed_sections": [],
   "name": "Basic_Programming.ipynb",
   "provenance": []
  },
  "kernelspec": {
   "display_name": "Python 3",
   "language": "python",
   "name": "python3"
  },
  "language_info": {
   "codemirror_mode": {
    "name": "ipython",
    "version": 3
   },
   "file_extension": ".py",
   "mimetype": "text/x-python",
   "name": "python",
   "nbconvert_exporter": "python",
   "pygments_lexer": "ipython3",
   "version": "3.7.3"
  }
 },
 "nbformat": 4,
 "nbformat_minor": 1
}
